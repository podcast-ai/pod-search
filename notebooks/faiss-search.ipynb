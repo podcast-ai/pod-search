{
  "nbformat": 4,
  "nbformat_minor": 0,
  "metadata": {
    "accelerator": "GPU",
    "colab": {
      "name": "Copy of 001-vector-search.ipynb",
      "provenance": [],
      "collapsed_sections": []
    },
    "kernelspec": {
      "display_name": "Python [conda env:myenv]",
      "language": "python",
      "name": "conda-env-myenv-py"
    },
    "language_info": {
      "codemirror_mode": {
        "name": "ipython",
        "version": 3
      },
      "file_extension": ".py",
      "mimetype": "text/x-python",
      "name": "python",
      "nbconvert_exporter": "python",
      "pygments_lexer": "ipython3",
      "version": "3.7.6"
    }
  },
  "cells": [
    {
      "cell_type": "markdown",
      "metadata": {
        "id": "bJLQoimyVyQ8"
      },
      "source": [
        "### Uncomment and run the following cells if you work on Google Colab :) Don't forget to change your runtime type to GPU!"
      ]
    },
    {
      "cell_type": "code",
      "metadata": {
        "id": "rVV81xc3VyQ9"
      },
      "source": [
        " ! git clone https://github.com/kstathou/vector_engine"
      ],
      "execution_count": null,
      "outputs": []
    },
    {
      "cell_type": "code",
      "metadata": {
        "id": "C0lSFLw3VyRG"
      },
      "source": [
        " cd vector_engine"
      ],
      "execution_count": null,
      "outputs": []
    },
    {
      "cell_type": "code",
      "metadata": {
        "id": "5sOhWL6UVyRQ"
      },
      "source": [
        " ! pip install -r requirements.txt"
      ],
      "execution_count": null,
      "outputs": []
    },
    {
      "cell_type": "code",
      "metadata": {
        "id": "v7ftrzzmVyRX"
      },
      "source": [
        "%load_ext autoreload"
      ],
      "execution_count": null,
      "outputs": []
    },
    {
      "cell_type": "code",
      "metadata": {
        "id": "fU2i4vlCVyRc"
      },
      "source": [
        "%autoreload 2\n",
        "# Used to import data from local.\n",
        "import pandas as pd\n",
        "\n",
        "# Used to create the dense document vectors.\n",
        "import torch\n",
        "from sentence_transformers import SentenceTransformer\n",
        "\n",
        "# Used to create and store the Faiss index.\n",
        "import faiss\n",
        "import numpy as np\n",
        "import pickle\n",
        "from pathlib import Path\n",
        "\n",
        "# Used to do vector searches and display the results.\n",
        "from vector_engine.utils import vector_search, id2details"
      ],
      "execution_count": 28,
      "outputs": []
    },
    {
      "cell_type": "code",
      "metadata": {
        "id": "VEANywYAVyRi"
      },
      "source": [
        "# Read a CSV in a table\n",
        "df = pd.read_csv('/content/transcribed_audios.csv')\n",
        "df['id'] = df.index"
      ],
      "execution_count": 29,
      "outputs": []
    },
    {
      "cell_type": "code",
      "metadata": {
        "colab": {
          "base_uri": "https://localhost:8080/",
          "height": 187
        },
        "id": "HJXljSbYVyRn",
        "outputId": "e4593b89-a7f7-4dd0-c856-27b5c1b9cdbf"
      },
      "source": [
        "df.head(3)"
      ],
      "execution_count": 30,
      "outputs": [
        {
          "output_type": "execute_result",
          "data": {
            "text/plain": [
              "                                          audio_file  chunk_num  \\\n",
              "0  podcasts/Ep8-JOW-LEAN_FINAL-with-NEWCREDITSMAS...          0   \n",
              "1  podcasts/Ep8-JOW-LEAN_FINAL-with-NEWCREDITSMAS...          1   \n",
              "2  podcasts/Ep8-JOW-LEAN_FINAL-with-NEWCREDITSMAS...          2   \n",
              "\n",
              "                                       transcription  begin_secs   end_secs  \\\n",
              "0  I'M STEVE STROGATS AND THIS IS THE JOY OF GOR ...    0.000000   9.951313   \n",
              "1  THAT TAKES YOU INTO SOME OF THE BIGGEST UNANSW...    9.951313  19.902625   \n",
              "2  HOW MUCH MATH CAN A COMPUTER DO AND COULD COMP...   19.902625  29.853938   \n",
              "\n",
              "   id  \n",
              "0   0  \n",
              "1   1  \n",
              "2   2  "
            ],
            "text/html": [
              "\n",
              "  <div id=\"df-624aeb43-bd62-4951-9d6f-deabae0f1373\">\n",
              "    <div class=\"colab-df-container\">\n",
              "      <div>\n",
              "<style scoped>\n",
              "    .dataframe tbody tr th:only-of-type {\n",
              "        vertical-align: middle;\n",
              "    }\n",
              "\n",
              "    .dataframe tbody tr th {\n",
              "        vertical-align: top;\n",
              "    }\n",
              "\n",
              "    .dataframe thead th {\n",
              "        text-align: right;\n",
              "    }\n",
              "</style>\n",
              "<table border=\"1\" class=\"dataframe\">\n",
              "  <thead>\n",
              "    <tr style=\"text-align: right;\">\n",
              "      <th></th>\n",
              "      <th>audio_file</th>\n",
              "      <th>chunk_num</th>\n",
              "      <th>transcription</th>\n",
              "      <th>begin_secs</th>\n",
              "      <th>end_secs</th>\n",
              "      <th>id</th>\n",
              "    </tr>\n",
              "  </thead>\n",
              "  <tbody>\n",
              "    <tr>\n",
              "      <th>0</th>\n",
              "      <td>podcasts/Ep8-JOW-LEAN_FINAL-with-NEWCREDITSMAS...</td>\n",
              "      <td>0</td>\n",
              "      <td>I'M STEVE STROGATS AND THIS IS THE JOY OF GOR ...</td>\n",
              "      <td>0.000000</td>\n",
              "      <td>9.951313</td>\n",
              "      <td>0</td>\n",
              "    </tr>\n",
              "    <tr>\n",
              "      <th>1</th>\n",
              "      <td>podcasts/Ep8-JOW-LEAN_FINAL-with-NEWCREDITSMAS...</td>\n",
              "      <td>1</td>\n",
              "      <td>THAT TAKES YOU INTO SOME OF THE BIGGEST UNANSW...</td>\n",
              "      <td>9.951313</td>\n",
              "      <td>19.902625</td>\n",
              "      <td>1</td>\n",
              "    </tr>\n",
              "    <tr>\n",
              "      <th>2</th>\n",
              "      <td>podcasts/Ep8-JOW-LEAN_FINAL-with-NEWCREDITSMAS...</td>\n",
              "      <td>2</td>\n",
              "      <td>HOW MUCH MATH CAN A COMPUTER DO AND COULD COMP...</td>\n",
              "      <td>19.902625</td>\n",
              "      <td>29.853938</td>\n",
              "      <td>2</td>\n",
              "    </tr>\n",
              "  </tbody>\n",
              "</table>\n",
              "</div>\n",
              "      <button class=\"colab-df-convert\" onclick=\"convertToInteractive('df-624aeb43-bd62-4951-9d6f-deabae0f1373')\"\n",
              "              title=\"Convert this dataframe to an interactive table.\"\n",
              "              style=\"display:none;\">\n",
              "        \n",
              "  <svg xmlns=\"http://www.w3.org/2000/svg\" height=\"24px\"viewBox=\"0 0 24 24\"\n",
              "       width=\"24px\">\n",
              "    <path d=\"M0 0h24v24H0V0z\" fill=\"none\"/>\n",
              "    <path d=\"M18.56 5.44l.94 2.06.94-2.06 2.06-.94-2.06-.94-.94-2.06-.94 2.06-2.06.94zm-11 1L8.5 8.5l.94-2.06 2.06-.94-2.06-.94L8.5 2.5l-.94 2.06-2.06.94zm10 10l.94 2.06.94-2.06 2.06-.94-2.06-.94-.94-2.06-.94 2.06-2.06.94z\"/><path d=\"M17.41 7.96l-1.37-1.37c-.4-.4-.92-.59-1.43-.59-.52 0-1.04.2-1.43.59L10.3 9.45l-7.72 7.72c-.78.78-.78 2.05 0 2.83L4 21.41c.39.39.9.59 1.41.59.51 0 1.02-.2 1.41-.59l7.78-7.78 2.81-2.81c.8-.78.8-2.07 0-2.86zM5.41 20L4 18.59l7.72-7.72 1.47 1.35L5.41 20z\"/>\n",
              "  </svg>\n",
              "      </button>\n",
              "      \n",
              "  <style>\n",
              "    .colab-df-container {\n",
              "      display:flex;\n",
              "      flex-wrap:wrap;\n",
              "      gap: 12px;\n",
              "    }\n",
              "\n",
              "    .colab-df-convert {\n",
              "      background-color: #E8F0FE;\n",
              "      border: none;\n",
              "      border-radius: 50%;\n",
              "      cursor: pointer;\n",
              "      display: none;\n",
              "      fill: #1967D2;\n",
              "      height: 32px;\n",
              "      padding: 0 0 0 0;\n",
              "      width: 32px;\n",
              "    }\n",
              "\n",
              "    .colab-df-convert:hover {\n",
              "      background-color: #E2EBFA;\n",
              "      box-shadow: 0px 1px 2px rgba(60, 64, 67, 0.3), 0px 1px 3px 1px rgba(60, 64, 67, 0.15);\n",
              "      fill: #174EA6;\n",
              "    }\n",
              "\n",
              "    [theme=dark] .colab-df-convert {\n",
              "      background-color: #3B4455;\n",
              "      fill: #D2E3FC;\n",
              "    }\n",
              "\n",
              "    [theme=dark] .colab-df-convert:hover {\n",
              "      background-color: #434B5C;\n",
              "      box-shadow: 0px 1px 3px 1px rgba(0, 0, 0, 0.15);\n",
              "      filter: drop-shadow(0px 1px 2px rgba(0, 0, 0, 0.3));\n",
              "      fill: #FFFFFF;\n",
              "    }\n",
              "  </style>\n",
              "\n",
              "      <script>\n",
              "        const buttonEl =\n",
              "          document.querySelector('#df-624aeb43-bd62-4951-9d6f-deabae0f1373 button.colab-df-convert');\n",
              "        buttonEl.style.display =\n",
              "          google.colab.kernel.accessAllowed ? 'block' : 'none';\n",
              "\n",
              "        async function convertToInteractive(key) {\n",
              "          const element = document.querySelector('#df-624aeb43-bd62-4951-9d6f-deabae0f1373');\n",
              "          const dataTable =\n",
              "            await google.colab.kernel.invokeFunction('convertToInteractive',\n",
              "                                                     [key], {});\n",
              "          if (!dataTable) return;\n",
              "\n",
              "          const docLinkHtml = 'Like what you see? Visit the ' +\n",
              "            '<a target=\"_blank\" href=https://colab.research.google.com/notebooks/data_table.ipynb>data table notebook</a>'\n",
              "            + ' to learn more about interactive tables.';\n",
              "          element.innerHTML = '';\n",
              "          dataTable['output_type'] = 'display_data';\n",
              "          await google.colab.output.renderOutput(dataTable, element);\n",
              "          const docLink = document.createElement('div');\n",
              "          docLink.innerHTML = docLinkHtml;\n",
              "          element.appendChild(docLink);\n",
              "        }\n",
              "      </script>\n",
              "    </div>\n",
              "  </div>\n",
              "  "
            ]
          },
          "metadata": {},
          "execution_count": 30
        }
      ]
    },
    {
      "cell_type": "code",
      "metadata": {
        "colab": {
          "base_uri": "https://localhost:8080/"
        },
        "id": "MljadlGpVyRs",
        "outputId": "cf4ae85b-980f-406c-d746-e802fd6c31a0"
      },
      "source": [
        "print(f\"transcripts: {df.id.unique().shape[0]}\")"
      ],
      "execution_count": 31,
      "outputs": [
        {
          "output_type": "stream",
          "name": "stdout",
          "text": [
            "transcripts: 687\n"
          ]
        }
      ]
    },
    {
      "cell_type": "code",
      "metadata": {
        "id": "PjF6CrwUVyRx"
      },
      "source": [
        "# Instantiate the sentence-level DistilBERT\n",
        "model = SentenceTransformer('distilbert-base-nli-stsb-mean-tokens')\n",
        "# Check if GPU is available and use it\n",
        "if torch.cuda.is_available():\n",
        "    model = model.to(torch.device(\"cuda\"))\n",
        "print(model.device)"
      ],
      "execution_count": null,
      "outputs": []
    },
    {
      "cell_type": "code",
      "metadata": {
        "id": "Y_GS0_CWVyR1"
      },
      "source": [
        "# Convert abstracts to vectors\n",
        "embeddings = model.encode(df.transcription.to_list(), show_progress_bar=True)"
      ],
      "execution_count": null,
      "outputs": []
    },
    {
      "cell_type": "code",
      "metadata": {
        "colab": {
          "base_uri": "https://localhost:8080/"
        },
        "id": "gE7w-RJbVyR6",
        "outputId": "a19cad9d-9dbc-46c6-80ee-0e8fe4f0f7ab"
      },
      "source": [
        "print(f'Shape of the vectorised abstract: {embeddings.shape}')"
      ],
      "execution_count": 34,
      "outputs": [
        {
          "output_type": "stream",
          "name": "stdout",
          "text": [
            "Shape of the vectorised abstract: (687, 768)\n"
          ]
        }
      ]
    },
    {
      "cell_type": "code",
      "metadata": {
        "colab": {
          "base_uri": "https://localhost:8080/"
        },
        "id": "8kkUDtwHVyR_",
        "outputId": "079477a9-2e70-48bb-e73c-1218cf5eff9e"
      },
      "source": [
        "# Step 1: Change data type\n",
        "embeddings = np.array([embedding for embedding in embeddings]).astype(\"float32\")\n",
        "\n",
        "# Step 2: Instantiate the index\n",
        "index = faiss.IndexFlatL2(embeddings.shape[1])\n",
        "\n",
        "# Step 3: Pass the index to IndexIDMap\n",
        "index = faiss.IndexIDMap(index)\n",
        "\n",
        "# Step 4: Add vectors and their IDs\n",
        "index.add_with_ids(embeddings, df.id.values)\n",
        "\n",
        "print(f\"Number of vectors in the Faiss index: {index.ntotal}\")"
      ],
      "execution_count": 35,
      "outputs": [
        {
          "output_type": "stream",
          "name": "stdout",
          "text": [
            "Number of vectors in the Faiss index: 687\n"
          ]
        }
      ]
    },
    {
      "cell_type": "code",
      "source": [
        "D, I = index.search(np.array([embeddings[600]]), k=10)"
      ],
      "metadata": {
        "id": "4Cwjq_cju_9w"
      },
      "execution_count": 36,
      "outputs": []
    },
    {
      "cell_type": "markdown",
      "metadata": {
        "id": "yt1z-433VySE"
      },
      "source": [
        "### Searching the index\n",
        "The index we built will perform a k-nearest-neighbour search. We have to provide the number of neighbours to be returned. \n",
        "\n",
        "Let's query the index with an abstract from our dataset and retrieve the 10 most relevant documents. **The first one must be our query!**\n"
      ]
    },
    {
      "cell_type": "code",
      "metadata": {
        "id": "iDhftkrhX99T"
      },
      "source": [
        "user_query = \"\"\"\n",
        "mathematics\n",
        "\"\"\""
      ],
      "execution_count": 41,
      "outputs": []
    },
    {
      "cell_type": "code",
      "metadata": {
        "colab": {
          "base_uri": "https://localhost:8080/"
        },
        "id": "6AFhbGnWZpWN",
        "outputId": "fe8ba832-38cb-4e88-9673-b1de9dad5811"
      },
      "source": [
        "# For convenience, I've wrapped all steps in the vector_search function.\n",
        "# It takes four arguments: \n",
        "# A query, the sentence-level transformer, the Faiss index and the number of requested results\n",
        "D, I = vector_search([user_query], model, index, num_results=10)\n",
        "print(f'L2 distance: {D.flatten().tolist()}\\n\\nMAG paper IDs: {I.flatten().tolist()}')"
      ],
      "execution_count": 42,
      "outputs": [
        {
          "output_type": "stream",
          "name": "stdout",
          "text": [
            "L2 distance: [211.16189575195312, 237.3350372314453, 243.3343505859375, 245.60272216796875, 252.97988891601562, 256.58837890625, 258.6418151855469, 260.4259033203125, 261.7326965332031, 271.40216064453125]\n",
            "\n",
            "MAG paper IDs: [145, 44, 186, 34, 62, 551, 7, 33, 56, 187]\n"
          ]
        }
      ]
    },
    {
      "cell_type": "code",
      "metadata": {
        "colab": {
          "base_uri": "https://localhost:8080/"
        },
        "id": "tbanjBhBZtWZ",
        "outputId": "bf136492-36c5-4bb9-e766-76a30c28e15b"
      },
      "source": [
        "# Fetching the paper titles based on their index\n",
        "id2details(df, I, 'transcription')"
      ],
      "execution_count": 43,
      "outputs": [
        {
          "output_type": "execute_result",
          "data": {
            "text/plain": [
              "[['IS PROVING THERMS THAT THE MODERN MAPETITION IS USING SO RIGHT NOW IT SEEMS THAT MATHEMATICIANS ARE TEACHING MATH TO'],\n",
              " [\"GRHYTHMS WHICH TRANSLATE THIS MATHEMATIC DOWN INTO THE AXIMS ALL IN THE SAME SYSTEM IT'S GIVEN LEAD A BIT OF AN EDGE WHEN IT COMES TO MATHEMATICS OVER THE OTHER THEORY RIVERS\"],\n",
              " [\"SOLUTION TO IT MATH IS HARD THIS IS THE PROBLEM  IS HARD IN SEVERAL DIFFERENT DISTINCT WAYS ONLY ONE THING WE'RE DOING RIGHT NOW IS WITH TEACHING THE COMPUTER SCIENTIS\"],\n",
              " ['AND HE PROPOSED A SETTING UP OF A DATA BASE OF A MATHEMATICAL THEOREMS JUST THE STATEMENTS OF MATHEMATICAL THEOREMS A ALL S'],\n",
              " [\"URNS MATHEMATICS INTO A PUZZLE GAME AND E AMATHEMASCAL THERUM IS ELEVEL OF THAT PUZZLED GAME AND IF YOU STATE THE THERUM THEN YOU'VE MADE THE LEVEL AND Y\"],\n",
              " [\"ER GLADTO TALK ABOUT IT WAN'T YOU KNOW WHAT'S HAPPENING AT THE FRONTIERS OF MATH PHYSICS COMPUTER SCIENCE AND B\"],\n",
              " [\"THEY'RE BUILDING A LIBRARY OF MATHKNOWLEDGE FOR LEAN TO REFERENCE TO HELP HUMAN MATHEMATICIANS CHECK THEIR PROOFS ARMED WITH A KNOWLEDGE OF ALGEBRA GEOMETRY AND L\"],\n",
              " ['GAVE A TALK ABOUT A VERY SPECULATIVE TALK ABOUT WHERE MATHEMATICS WAS GOING AND HE SUGGESTED THAT THEOR IMPROVERS MIGHT BE A PART OF IT'],\n",
              " ['TICS AND THOSE ARE OF COURSE THE WORDS THAT WE USE IN CHESS MY CURRENT UNDERSTANDING OF MATHEMATICS IS THAT MATHEMATICS IS A GIGANTIC PUZZLEGAG'],\n",
              " [\"ISTS JUST HOW DEEPLY HARD MATHEMATICS IS AND I THINK THAT ONE OF THE THINKS TH THAT'S HAPPENING IN THIS COLLABORATION IS THE COPUTER SCIENTISTS AS BEGINNING TO LEARN MOR\"]]"
            ]
          },
          "metadata": {},
          "execution_count": 43
        }
      ]
    },
    {
      "cell_type": "code",
      "source": [
        "id2details(df, I, 'id')"
      ],
      "metadata": {
        "colab": {
          "base_uri": "https://localhost:8080/"
        },
        "id": "L8BNR9su21JQ",
        "outputId": "241a9f5e-b8e0-4804-d88f-9815f3c8075c"
      },
      "execution_count": 44,
      "outputs": [
        {
          "output_type": "execute_result",
          "data": {
            "text/plain": [
              "[[145], [44], [186], [34], [62], [551], [7], [33], [56], [187]]"
            ]
          },
          "metadata": {},
          "execution_count": 44
        }
      ]
    }
  ]
}