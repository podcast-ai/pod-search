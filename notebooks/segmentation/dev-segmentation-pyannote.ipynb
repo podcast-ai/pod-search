{
 "cells": [
  {
   "cell_type": "markdown",
   "metadata": {
    "pycharm": {
     "name": "#%% md\n"
    }
   },
   "source": [
    "# Speaker Segmentation with pyannote"
   ]
  },
  {
   "cell_type": "markdown",
   "metadata": {
    "pycharm": {
     "name": "#%% md\n"
    }
   },
   "source": [
    "## Preamble"
   ]
  },
  {
   "cell_type": "markdown",
   "metadata": {
    "pycharm": {
     "name": "#%% md\n"
    }
   },
   "source": [
    "## Workflow"
   ]
  },
  {
   "cell_type": "code",
   "execution_count": 1,
   "metadata": {
    "pycharm": {
     "name": "#%%\n"
    }
   },
   "outputs": [
    {
     "ename": "ModuleNotFoundError",
     "evalue": "No module named 'pyannote'",
     "output_type": "error",
     "traceback": [
      "\u001B[0;31m---------------------------------------------------------------------------\u001B[0m",
      "\u001B[0;31mModuleNotFoundError\u001B[0m                       Traceback (most recent call last)",
      "\u001B[1;32m/Users/cls/Documents/Work/Projects/podcast-ai-lab/notebooks/segmentation/dev-segmentation-pyannote.ipynb Cell 4\u001B[0m in \u001B[0;36m<cell line: 1>\u001B[0;34m()\u001B[0m\n\u001B[0;32m----> <a href='vscode-notebook-cell:/Users/cls/Documents/Work/Projects/podcast-ai-lab/notebooks/segmentation/dev-segmentation-pyannote.ipynb#ch0000003?line=0'>1</a>\u001B[0m \u001B[39mfrom\u001B[39;00m \u001B[39mpyannote\u001B[39;00m\u001B[39m.\u001B[39;00m\u001B[39maudio\u001B[39;00m \u001B[39mimport\u001B[39;00m Pipeline\n\u001B[1;32m      <a href='vscode-notebook-cell:/Users/cls/Documents/Work/Projects/podcast-ai-lab/notebooks/segmentation/dev-segmentation-pyannote.ipynb#ch0000003?line=1'>2</a>\u001B[0m pipeline \u001B[39m=\u001B[39m Pipeline\u001B[39m.\u001B[39mfrom_pretrained(\u001B[39m\"\u001B[39m\u001B[39mpyannote/speaker-diarization\u001B[39m\u001B[39m\"\u001B[39m)\n\u001B[1;32m      <a href='vscode-notebook-cell:/Users/cls/Documents/Work/Projects/podcast-ai-lab/notebooks/segmentation/dev-segmentation-pyannote.ipynb#ch0000003?line=3'>4</a>\u001B[0m \u001B[39m# apply pretrained pipeline\u001B[39;00m\n",
      "\u001B[0;31mModuleNotFoundError\u001B[0m: No module named 'pyannote'"
     ]
    }
   ],
   "source": [
    "from pyannote.audio import Pipeline\n",
    "pipeline = Pipeline.from_pretrained(\"pyannote/speaker-diarization\")\n",
    "\n",
    "# apply pretrained pipeline\n",
    "diarization = pipeline(\"audio.wav\")\n",
    "\n",
    "# print the result\n",
    "for turn, _, speaker in diarization.itertracks(yield_label=True):\n",
    "    print(f\"start={turn.start:.1f}s stop={turn.end:.1f}s speaker_{speaker}\")"
   ]
  }
 ],
 "metadata": {
  "kernelspec": {
   "display_name": "Python 3.10.5 ('podcastai')",
   "language": "python",
   "name": "python3"
  },
  "language_info": {
   "codemirror_mode": {
    "name": "ipython",
    "version": 3
   },
   "file_extension": ".py",
   "mimetype": "text/x-python",
   "name": "python",
   "nbconvert_exporter": "python",
   "pygments_lexer": "ipython3",
   "version": "3.10.5"
  },
  "orig_nbformat": 4,
  "vscode": {
   "interpreter": {
    "hash": "96d68fc9e01005523a1f3667425ef5c40e869ab60af9b33393435084a5f8635b"
   }
  }
 },
 "nbformat": 4,
 "nbformat_minor": 2
}