{
 "cells": [
  {
   "cell_type": "code",
   "execution_count": null,
   "metadata": {
    "pycharm": {
     "name": "#%%\n"
    }
   },
   "outputs": [],
   "source": [
    "# Installing the dependencies... just uncomment the correct packaging tool (if you are using pip or conda)\n",
    "\n",
    "# import sys\n",
    "# ! {sys.executable} -m pip install torch\n",
    "# ! {sys.executable} -m pip install librosa\n",
    "# ! {sys.executable} -m pip install datasets\n",
    "# ! {sys.executable} -m pip install transformers\n",
    "# ! {sys.executable} -m pip install pandas\n",
    "# ! {sys.executable} -m pip install matplotlib\n",
    "\n",
    "# ! conda install pytorch\n",
    "# ! conda install -c conda-forge librosa\n",
    "# ! conda install -c conda-forge datasets\n",
    "# ! conda install -c conda-forge transformers\n",
    "# ! conda install pandas\n",
    "# ! conda install -c conda-forge matplotlib"
   ]
  },
  {
   "cell_type": "code",
   "execution_count": 1,
   "metadata": {
    "pycharm": {
     "name": "#%%\n"
    }
   },
   "outputs": [],
   "source": [
    "import torch\n",
    "import librosa\n",
    "from datasets import load_dataset\n",
    "from transformers import Wav2Vec2ForCTC, Wav2Vec2Processor\n",
    "\n",
    "import pandas as pd\n",
    "import matplotlib.pyplot as plt"
   ]
  },
  {
   "cell_type": "code",
   "execution_count": 2,
   "metadata": {
    "pycharm": {
     "name": "#%%\n"
    }
   },
   "outputs": [],
   "source": [
    "TEST_FILE = \"./data_samples.csv\""
   ]
  },
  {
   "cell_type": "code",
   "execution_count": 3,
   "metadata": {
    "pycharm": {
     "name": "#%%\n"
    }
   },
   "outputs": [
    {
     "name": "stdout",
     "output_type": "stream",
     "text": [
      "shape: (5, 2)\n"
     ]
    },
    {
     "data": {
      "text/html": [
       "<div>\n",
       "<style scoped>\n",
       "    .dataframe tbody tr th:only-of-type {\n",
       "        vertical-align: middle;\n",
       "    }\n",
       "\n",
       "    .dataframe tbody tr th {\n",
       "        vertical-align: top;\n",
       "    }\n",
       "\n",
       "    .dataframe thead th {\n",
       "        text-align: right;\n",
       "    }\n",
       "</style>\n",
       "<table border=\"1\" class=\"dataframe\">\n",
       "  <thead>\n",
       "    <tr style=\"text-align: right;\">\n",
       "      <th></th>\n",
       "      <th>filename</th>\n",
       "      <th>text</th>\n",
       "    </tr>\n",
       "  </thead>\n",
       "  <tbody>\n",
       "    <tr>\n",
       "      <th>0</th>\n",
       "      <td>sample-000000.mp3</td>\n",
       "      <td>without the dataset the article is useless</td>\n",
       "    </tr>\n",
       "    <tr>\n",
       "      <th>1</th>\n",
       "      <td>sample-000001.mp3</td>\n",
       "      <td>i've got to go to him</td>\n",
       "    </tr>\n",
       "    <tr>\n",
       "      <th>2</th>\n",
       "      <td>sample-000002.mp3</td>\n",
       "      <td>and you know it</td>\n",
       "    </tr>\n",
       "    <tr>\n",
       "      <th>3</th>\n",
       "      <td>sample-000003.mp3</td>\n",
       "      <td>down below in the darkness were hundreds of pe...</td>\n",
       "    </tr>\n",
       "    <tr>\n",
       "      <th>4</th>\n",
       "      <td>sample-000004.mp3</td>\n",
       "      <td>hold your nose to keep the smell from disablin...</td>\n",
       "    </tr>\n",
       "  </tbody>\n",
       "</table>\n",
       "</div>"
      ],
      "text/plain": [
       "            filename                                               text\n",
       "0  sample-000000.mp3         without the dataset the article is useless\n",
       "1  sample-000001.mp3                              i've got to go to him\n",
       "2  sample-000002.mp3                                    and you know it\n",
       "3  sample-000003.mp3  down below in the darkness were hundreds of pe...\n",
       "4  sample-000004.mp3  hold your nose to keep the smell from disablin..."
      ]
     },
     "execution_count": 3,
     "metadata": {},
     "output_type": "execute_result"
    }
   ],
   "source": [
    "test = pd.read_csv(TEST_FILE, sep=',')\n",
    "print(f'shape: {test.shape}')\n",
    "test.head()"
   ]
  },
  {
   "cell_type": "code",
   "execution_count": 4,
   "metadata": {
    "pycharm": {
     "name": "#%%\n"
    }
   },
   "outputs": [
    {
     "name": "stderr",
     "output_type": "stream",
     "text": [
      "Using custom data configuration default-06e4971bbfead705\n",
      "Reusing dataset csv (C:\\Users\\enric\\.cache\\huggingface\\datasets\\csv\\default-06e4971bbfead705\\0.0.0\\433e0ccc46f9880962cc2b12065189766fbb2bee57a221866138fb9203c83519)\n",
      "100%|██████████| 1/1 [00:00<00:00, 499.74it/s]\n"
     ]
    }
   ],
   "source": [
    "local_csv_dataset = load_dataset(\"csv\", data_files=TEST_FILE)"
   ]
  },
  {
   "cell_type": "code",
   "execution_count": 5,
   "metadata": {
    "pycharm": {
     "name": "#%%\n"
    }
   },
   "outputs": [
    {
     "data": {
      "text/plain": [
       "DatasetDict({\n",
       "    train: Dataset({\n",
       "        features: ['filename', 'text'],\n",
       "        num_rows: 5\n",
       "    })\n",
       "})"
      ]
     },
     "execution_count": 5,
     "metadata": {},
     "output_type": "execute_result"
    }
   ],
   "source": [
    "local_csv_dataset"
   ]
  },
  {
   "cell_type": "code",
   "execution_count": 6,
   "metadata": {
    "pycharm": {
     "name": "#%%\n"
    }
   },
   "outputs": [],
   "source": [
    "LANG_ID = \"en\"\n",
    "MODEL_ID = \"jonatasgrosman/wav2vec2-large-xlsr-53-english\"\n",
    "\n",
    "processor = Wav2Vec2Processor.from_pretrained(MODEL_ID)\n",
    "model = Wav2Vec2ForCTC.from_pretrained(MODEL_ID)"
   ]
  },
  {
   "cell_type": "code",
   "execution_count": 7,
   "metadata": {
    "pycharm": {
     "name": "#%%\n"
    }
   },
   "outputs": [],
   "source": [
    "# Preprocessing the datasets.\n",
    "# We need to read the audio files as arrays\n",
    "\n",
    "# default sample rate needed by the model\n",
    "sr = 16_000 \n",
    "\n",
    "def speech_file_to_array_fn(batch, data_dir):\n",
    "    speech_array, sr = librosa.load(path=data_dir+batch[\"filename\"], sr=16_000)\n",
    "    batch[\"speech\"] = speech_array\n",
    "    batch[\"text\"] = batch[\"text\"].upper()\n",
    "    return batch"
   ]
  },
  {
   "cell_type": "code",
   "execution_count": 8,
   "metadata": {
    "pycharm": {
     "name": "#%%\n"
    }
   },
   "outputs": [
    {
     "name": "stderr",
     "output_type": "stream",
     "text": [
      "Loading cached processed dataset at C:\\Users\\enric\\.cache\\huggingface\\datasets\\csv\\default-06e4971bbfead705\\0.0.0\\433e0ccc46f9880962cc2b12065189766fbb2bee57a221866138fb9203c83519\\cache-fbbcc218a5829b4c.arrow\n"
     ]
    }
   ],
   "source": [
    "TEST_DIR = './data_mp3/'\n",
    "test_dataset = local_csv_dataset[\"train\"].map(\n",
    "    speech_file_to_array_fn, \n",
    "    fn_kwargs={\n",
    "        'data_dir': TEST_DIR,\n",
    "        }\n",
    "    )"
   ]
  },
  {
   "cell_type": "code",
   "execution_count": 9,
   "metadata": {
    "pycharm": {
     "name": "#%%\n"
    }
   },
   "outputs": [
    {
     "data": {
      "image/png": "[encoded data removed]",
      "text/plain": [
       "<Figure size 432x288 with 1 Axes>"
      ]
     },
     "metadata": {
      "needs_background": "light"
     },
     "output_type": "display_data"
    }
   ],
   "source": [
    "# Example plot for visualisation of the first speech array loaded in dataset\n",
    "\n",
    "plt.plot(test_dataset[0]['speech'])\n",
    "plt.show()"
   ]
  },
  {
   "cell_type": "code",
   "execution_count": 10,
   "metadata": {
    "pycharm": {
     "name": "#%%\n"
    }
   },
   "outputs": [
    {
     "name": "stdout",
     "output_type": "stream",
     "text": [
      "Reference: WITHOUT THE DATASET THE ARTICLE IS USELESS\n",
      "Prediction: without the dataset the article is useless\n"
     ]
    }
   ],
   "source": [
    "# Inference\n",
    "\n",
    "inputs = processor(test_dataset[\"speech\"], sampling_rate=16_000, return_tensors=\"pt\", padding=True)\n",
    "\n",
    "with torch.no_grad():\n",
    "    logits = model(inputs.input_values, attention_mask=inputs.attention_mask).logits\n",
    "\n",
    "predicted_ids = torch.argmax(logits, dim=-1)\n",
    "predicted_sentences = processor.batch_decode(predicted_ids)\n",
    "\n",
    "# for i, predicted_sentence in enumerate(predicted_sentences):\n",
    "#     print(\"-\" * 100)\n",
    "#     print(\"Reference:\", test_dataset[i][\"text\"])\n",
    "#     print(\"Prediction:\", predicted_sentence)\n",
    "\n",
    "example_prediction = predicted_sentences[0]\n",
    "print(\"Reference:\", test_dataset[0][\"text\"])\n",
    "print(\"Prediction:\", example_prediction)"
   ]
  },
  {
   "cell_type": "code",
   "execution_count": 11,
   "metadata": {
    "pycharm": {
     "name": "#%%\n"
    }
   },
   "outputs": [],
   "source": [
    "# Getting time stamps for each word:\n",
    "# referenced and adapted from https://github.com/huggingface/transformers/issues/11307\n",
    "\n",
    "from itertools import groupby\n",
    "\n",
    "words = [w for w in example_prediction.split(' ') if len(w) > 0]\n",
    "predicted_ids_list = predicted_ids[0].tolist()\n",
    "duration_sec = inputs['input_values'][0].size(dim=0) / sr\n",
    "\n",
    "ids_w_time = [(i / len(predicted_ids_list) * duration_sec, _id) for i, _id in enumerate(predicted_ids_list)]\n",
    "# remove entries which are just \"padding\" (i.e. no characers are recognized)\n",
    "ids_w_time = [i for i in ids_w_time if i[1] != processor.tokenizer.pad_token_id]\n",
    "# now split the ids into groups of ids where each group represents a word\n",
    "split_ids_w_time = [list(group) for k, group\n",
    "                    in groupby(ids_w_time, lambda x: x[1] == processor.tokenizer.word_delimiter_token_id)\n",
    "                    if not k]\n",
    "\n",
    "assert len(split_ids_w_time) == len(words)  # make sure that there are the same number of id-groups as words. Otherwise something is wrong\n",
    "\n",
    "word_start_times = []\n",
    "word_end_times = []\n",
    "for cur_ids_w_time, cur_word in zip(split_ids_w_time, words):\n",
    "    _times = [_time for _time, _id in cur_ids_w_time]\n",
    "    word_start_times.append(min(_times))\n",
    "    word_end_times.append(max(_times))"
   ]
  },
  {
   "cell_type": "code",
   "execution_count": 12,
   "metadata": {
    "pycharm": {
     "name": "#%%\n"
    }
   },
   "outputs": [
    {
     "name": "stdout",
     "output_type": "stream",
     "text": [
      "without (start: 0.4614375, end: 0.7423125)\n",
      "the (start: 0.8025, end: 0.8827499999999999)\n",
      "dataset (start: 0.9429375, end: 1.4645625)\n",
      "the (start: 1.564875, end: 1.6250624999999999)\n",
      "article (start: 1.725375, end: 2.00625)\n",
      "is (start: 2.1065625, end: 2.1466874999999996)\n",
      "useless (start: 2.32725, end: 2.7285)\n"
     ]
    }
   ],
   "source": [
    "for i, word in enumerate(words):\n",
    "    print(f\"{word} (start: {word_start_times[i]}, end: {word_end_times[i]})\")"
   ]
  }
 ],
 "metadata": {
  "kernelspec": {
   "display_name": "Python 3.8.7 ('venv': venv)",
   "language": "python",
   "name": "python3"
  },
  "language_info": {
   "codemirror_mode": {
    "name": "ipython",
    "version": 3
   },
   "file_extension": ".py",
   "mimetype": "text/x-python",
   "name": "python",
   "nbconvert_exporter": "python",
   "pygments_lexer": "ipython3",
   "version": "3.8.7"
  },
  "orig_nbformat": 4,
  "vscode": {
   "interpreter": {
    "hash": "0ae2f4f10f19032c75bb80f7b5f781b597bc5c985e48b9f4fb89cff8e2d9959f"
   }
  }
 },
 "nbformat": 4,
 "nbformat_minor": 2
}