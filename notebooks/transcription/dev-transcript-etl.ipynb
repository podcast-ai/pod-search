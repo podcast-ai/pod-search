{
 "cells": [
  {
   "cell_type": "markdown",
   "metadata": {},
   "source": [
    "# Transcript ETL Code"
   ]
  },
  {
   "cell_type": "markdown",
   "metadata": {},
   "source": [
    "## Preamble"
   ]
  },
  {
   "cell_type": "markdown",
   "metadata": {},
   "source": []
  },
  {
   "cell_type": "code",
   "execution_count": 6,
   "metadata": {},
   "outputs": [],
   "source": [
    "\n",
    "from pandera.typing import DataFrame\n",
    "\n",
    "import pandas\n",
    "import json\n",
    "from pathlib import Path\n",
    "\n"
   ]
  },
  {
   "cell_type": "markdown",
   "metadata": {},
   "source": [
    "## Config"
   ]
  },
  {
   "cell_type": "code",
   "execution_count": 7,
   "metadata": {},
   "outputs": [
    {
     "data": {
      "text/plain": [
       "PosixPath('/Users/cls/Documents/Work/Projects/SoundOfAI/podcast-ai-lab')"
      ]
     },
     "execution_count": 7,
     "metadata": {},
     "output_type": "execute_result"
    }
   ],
   "source": [
    "project_dir = Path(\"/Users/cls/Documents/Work/Projects/SoundOfAI/podcast-ai-lab/\")\n",
    "project_dir"
   ]
  },
  {
   "cell_type": "code",
   "execution_count": 8,
   "metadata": {},
   "outputs": [
    {
     "data": {
      "text/plain": [
       "PosixPath('/Users/cls/Documents/Work/Projects/SoundOfAI/podcast-ai-lab/data/podcasts')"
      ]
     },
     "execution_count": 8,
     "metadata": {},
     "output_type": "execute_result"
    }
   ],
   "source": [
    "podcast_dir = project_dir / \"data/podcasts/\"\n",
    "podcast_dir"
   ]
  },
  {
   "cell_type": "code",
   "execution_count": 12,
   "metadata": {},
   "outputs": [
    {
     "data": {
      "text/plain": [
       "PosixPath('/Users/cls/Documents/Work/Projects/SoundOfAI/podcast-ai-lab/data/transcripts/Google')"
      ]
     },
     "execution_count": 12,
     "metadata": {},
     "output_type": "execute_result"
    }
   ],
   "source": [
    "transcript_dir = project_dir / \"data/transcripts/Google\"\n",
    "transcript_dir"
   ]
  },
  {
   "cell_type": "code",
   "execution_count": 13,
   "metadata": {},
   "outputs": [
    {
     "name": "stdout",
     "output_type": "stream",
     "text": [
      "20220701 lex_ai_demis_hassabis.json  20220701 lex_ai_demis_hassabis.vtt\n"
     ]
    }
   ],
   "source": [
    "ls {transcript_dir}"
   ]
  },
  {
   "cell_type": "markdown",
   "metadata": {},
   "source": [
    "## Data Transforms"
   ]
  },
  {
   "cell_type": "markdown",
   "metadata": {},
   "source": [
    "### Transcript to DataFrame"
   ]
  },
  {
   "cell_type": "code",
   "execution_count": 17,
   "metadata": {},
   "outputs": [],
   "source": [
    "example_transcript_path = transcript_dir / \"20220701 lex_ai_demis_hassabis.json\""
   ]
  },
  {
   "cell_type": "code",
   "execution_count": 15,
   "metadata": {},
   "outputs": [],
   "source": [
    "def google_transcript_to_dataframe(\n",
    "    path,\n",
    ") -> DataFrame:\n",
    "    \"\"\"Parse Google Speech to Text API result .json -> pandas.DataFrame\"\"\"\n",
    "    transcript_data = pandas.read_json(path)\n",
    "    return transcript_data"
   ]
  },
  {
   "cell_type": "code",
   "execution_count": 18,
   "metadata": {},
   "outputs": [
    {
     "data": {
      "text/html": [
       "<div>\n",
       "<style scoped>\n",
       "    .dataframe tbody tr th:only-of-type {\n",
       "        vertical-align: middle;\n",
       "    }\n",
       "\n",
       "    .dataframe tbody tr th {\n",
       "        vertical-align: top;\n",
       "    }\n",
       "\n",
       "    .dataframe thead th {\n",
       "        text-align: right;\n",
       "    }\n",
       "</style>\n",
       "<table border=\"1\" class=\"dataframe\">\n",
       "  <thead>\n",
       "    <tr style=\"text-align: right;\">\n",
       "      <th></th>\n",
       "      <th>start</th>\n",
       "      <th>end</th>\n",
       "      <th>text</th>\n",
       "      <th>confidence</th>\n",
       "      <th>newpara</th>\n",
       "    </tr>\n",
       "  </thead>\n",
       "  <tbody>\n",
       "    <tr>\n",
       "      <th>0</th>\n",
       "      <td>0.018</td>\n",
       "      <td>6.398</td>\n",
       "      <td>The following is a conversation with demouth c...</td>\n",
       "      <td>0.80</td>\n",
       "      <td>1.0</td>\n",
       "    </tr>\n",
       "    <tr>\n",
       "      <th>1</th>\n",
       "      <td>6.602</td>\n",
       "      <td>16.615</td>\n",
       "      <td>A company that has published and build some of...</td>\n",
       "      <td>0.88</td>\n",
       "      <td>NaN</td>\n",
       "    </tr>\n",
       "    <tr>\n",
       "      <th>2</th>\n",
       "      <td>16.828</td>\n",
       "      <td>30.299</td>\n",
       "      <td>All by itself to play the game of Go better th...</td>\n",
       "      <td>0.90</td>\n",
       "      <td>NaN</td>\n",
       "    </tr>\n",
       "    <tr>\n",
       "      <th>3</th>\n",
       "      <td>31.088</td>\n",
       "      <td>40.678</td>\n",
       "      <td>Thomas is widely considered to be one of the m...</td>\n",
       "      <td>0.80</td>\n",
       "      <td>1.0</td>\n",
       "    </tr>\n",
       "    <tr>\n",
       "      <th>4</th>\n",
       "      <td>40.873</td>\n",
       "      <td>50.563</td>\n",
       "      <td>This was truly an honor and a pleasure for me ...</td>\n",
       "      <td>0.88</td>\n",
       "      <td>NaN</td>\n",
       "    </tr>\n",
       "    <tr>\n",
       "      <th>...</th>\n",
       "      <td>...</td>\n",
       "      <td>...</td>\n",
       "      <td>...</td>\n",
       "      <td>...</td>\n",
       "      <td>...</td>\n",
       "    </tr>\n",
       "    <tr>\n",
       "      <th>921</th>\n",
       "      <td>8172.342</td>\n",
       "      <td>8184.166</td>\n",
       "      <td>Human beings in this giant puzzle of ours and ...</td>\n",
       "      <td>0.81</td>\n",
       "      <td>NaN</td>\n",
       "    </tr>\n",
       "    <tr>\n",
       "      <th>922</th>\n",
       "      <td>8184.954</td>\n",
       "      <td>8191.394</td>\n",
       "      <td>Thanks for listening to this conversation with...</td>\n",
       "      <td>0.81</td>\n",
       "      <td>1.0</td>\n",
       "    </tr>\n",
       "    <tr>\n",
       "      <th>923</th>\n",
       "      <td>8191.689</td>\n",
       "      <td>8195.580</td>\n",
       "      <td>And now let me leave you with some words from ...</td>\n",
       "      <td>0.91</td>\n",
       "      <td>1.0</td>\n",
       "    </tr>\n",
       "    <tr>\n",
       "      <th>924</th>\n",
       "      <td>8196.244</td>\n",
       "      <td>8202.197</td>\n",
       "      <td>Computer science is no more about computers an...</td>\n",
       "      <td>0.91</td>\n",
       "      <td>1.0</td>\n",
       "    </tr>\n",
       "    <tr>\n",
       "      <th>925</th>\n",
       "      <td>8207.280</td>\n",
       "      <td>8222.328</td>\n",
       "      <td>Music.</td>\n",
       "      <td>NaN</td>\n",
       "      <td>1.0</td>\n",
       "    </tr>\n",
       "  </tbody>\n",
       "</table>\n",
       "<p>926 rows × 5 columns</p>\n",
       "</div>"
      ],
      "text/plain": [
       "        start       end                                               text  \\\n",
       "0       0.018     6.398  The following is a conversation with demouth c...   \n",
       "1       6.602    16.615  A company that has published and build some of...   \n",
       "2      16.828    30.299  All by itself to play the game of Go better th...   \n",
       "3      31.088    40.678  Thomas is widely considered to be one of the m...   \n",
       "4      40.873    50.563  This was truly an honor and a pleasure for me ...   \n",
       "..        ...       ...                                                ...   \n",
       "921  8172.342  8184.166  Human beings in this giant puzzle of ours and ...   \n",
       "922  8184.954  8191.394  Thanks for listening to this conversation with...   \n",
       "923  8191.689  8195.580  And now let me leave you with some words from ...   \n",
       "924  8196.244  8202.197  Computer science is no more about computers an...   \n",
       "925  8207.280  8222.328                                             Music.   \n",
       "\n",
       "     confidence  newpara  \n",
       "0          0.80      1.0  \n",
       "1          0.88      NaN  \n",
       "2          0.90      NaN  \n",
       "3          0.80      1.0  \n",
       "4          0.88      NaN  \n",
       "..          ...      ...  \n",
       "921        0.81      NaN  \n",
       "922        0.81      1.0  \n",
       "923        0.91      1.0  \n",
       "924        0.91      1.0  \n",
       "925         NaN      1.0  \n",
       "\n",
       "[926 rows x 5 columns]"
      ]
     },
     "execution_count": 18,
     "metadata": {},
     "output_type": "execute_result"
    }
   ],
   "source": [
    "google_transcript_to_dataframe(example_transcript_path)"
   ]
  },
  {
   "cell_type": "code",
   "execution_count": null,
   "metadata": {},
   "outputs": [],
   "source": []
  }
 ],
 "metadata": {
  "kernelspec": {
   "display_name": "Python 3.10.5 ('podcastai')",
   "language": "python",
   "name": "python3"
  },
  "language_info": {
   "codemirror_mode": {
    "name": "ipython",
    "version": 3
   },
   "file_extension": ".py",
   "mimetype": "text/x-python",
   "name": "python",
   "nbconvert_exporter": "python",
   "pygments_lexer": "ipython3",
   "version": "3.9.13"
  },
  "orig_nbformat": 4,
  "vscode": {
   "interpreter": {
    "hash": "96d68fc9e01005523a1f3667425ef5c40e869ab60af9b33393435084a5f8635b"
   }
  }
 },
 "nbformat": 4,
 "nbformat_minor": 2
}
